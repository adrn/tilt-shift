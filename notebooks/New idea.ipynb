{
 "metadata": {
  "name": "",
  "signature": "sha256:98c551242549f79c51a2cacdb8eb88cfe581b4b545d54eb73f6bafe7c715d894"
 },
 "nbformat": 3,
 "nbformat_minor": 0,
 "worksheets": [
  {
   "cells": [
    {
     "cell_type": "code",
     "collapsed": false,
     "input": [
      "import astropy.units as u\n",
      "import numpy as np\n",
      "import matplotlib.pyplot as plt\n",
      "%matplotlib inline\n",
      "\n",
      "from scipy.optimize import root\n",
      "from astropy.constants import G\n",
      "from scipy.misc import logsumexp"
     ],
     "language": "python",
     "metadata": {},
     "outputs": [],
     "prompt_number": 169
    },
    {
     "cell_type": "code",
     "collapsed": false,
     "input": [
      "# generate some data\n",
      "N = 100\n",
      "\n",
      "m1 = 0.5\n",
      "m2 = np.random.normal(1., 0.2, size=N)\n",
      "sini = np.sin(np.arccos(np.random.uniform(0.,1.,size=N)))\n",
      "\n",
      "true_f = (m2*sini)**3 / (m1 + m2)**2\n",
      "sigma_f = np.random.uniform(0.02*true_f.min(), 0.05*true_f.min(), size=N)\n",
      "obs_f = np.random.normal(true_f, sigma_f)"
     ],
     "language": "python",
     "metadata": {},
     "outputs": [],
     "prompt_number": 212
    },
    {
     "cell_type": "code",
     "collapsed": false,
     "input": [
      "def normal(x, mu, sigma):\n",
      "    return np.exp(-0.5*(x-mu)**2/sigma**2) / np.sqrt(2*np.pi) / sigma\n",
      "\n",
      "def lognormal(x, mu, sigma):\n",
      "    return -0.5*(x-mu)**2/sigma**2 - 0.5*np.log(2*np.pi) - np.log(sigma)"
     ],
     "language": "python",
     "metadata": {},
     "outputs": [],
     "prompt_number": 217
    },
    {
     "cell_type": "code",
     "collapsed": false,
     "input": [
      "def ln_likelihood(p, f, sigma_f, m1):\n",
      "    mu = p[0]\n",
      "    \n",
      "    di = 0.01\n",
      "    dm2 = 0.1\n",
      "    \n",
      "    ll = 0.\n",
      "    for i in np.arange(0., np.pi/2., di):\n",
      "        l = 0.\n",
      "        for m2 in np.arange(0., 10., dm2):\n",
      "            this_f = (m2*np.sin(i))**3 / (m1 + m2)**2\n",
      "            p1 = normal(this_f, f, sigma_f)\n",
      "            p2 = normal(m2, mu, 0.2)\n",
      "            l += p1*p2\n",
      "        \n",
      "        ll += l*np.sin(i)*dm2\n",
      "    ll *= di\n",
      "    return np.log(ll)"
     ],
     "language": "python",
     "metadata": {},
     "outputs": [],
     "prompt_number": 241
    },
    {
     "cell_type": "code",
     "collapsed": false,
     "input": [
      "lls = []\n",
      "vals = np.arange(0.5, 1.5, 0.1)\n",
      "for mu in vals:\n",
      "    ll = ln_likelihood([mu], obs_f, sigma_f, m1)\n",
      "    lls.append(np.sum(ll[np.isfinite(ll)]))\n",
      "lls = np.array(lls)"
     ],
     "language": "python",
     "metadata": {},
     "outputs": [],
     "prompt_number": 242
    },
    {
     "cell_type": "code",
     "collapsed": false,
     "input": [
      "plt.plot(vals, lls)"
     ],
     "language": "python",
     "metadata": {},
     "outputs": [
      {
       "metadata": {},
       "output_type": "pyout",
       "prompt_number": 243,
       "text": [
        "[<matplotlib.lines.Line2D at 0x14269ddd0>]"
       ]
      },
      {
       "metadata": {},
       "output_type": "display_data",
       "png": "[encoded data removed]",
       "text": [
        "<matplotlib.figure.Figure at 0x142033f10>"
       ]
      }
     ],
     "prompt_number": 243
    },
    {
     "cell_type": "code",
     "collapsed": false,
     "input": [],
     "language": "python",
     "metadata": {},
     "outputs": []
    }
   ],
   "metadata": {}
  }
 ]
}