{
 "metadata": {
  "name": "",
  "signature": "sha256:9e6fe06b8aa71d985d02a574229fb21ff1e33a134cf2f6e5952a1685201a0c95"
 },
 "nbformat": 3,
 "nbformat_minor": 0,
 "worksheets": [
  {
   "cells": [
    {
     "cell_type": "markdown",
     "metadata": {},
     "source": [
      "<h1 style=\"text-align:center;\">The ELM White Dwarf blah blah ... paper title</h1>"
     ]
    },
    {
     "cell_type": "markdown",
     "metadata": {},
     "source": [
      "<div style=\"text-align: center; font-size: 120%;\">\n",
      "Jeff Andrews (Columbia University)<br/>\n",
      "Adrian M. Price-Whelan (Columbia University)  \n",
      "Marcel Ag\u00fceros (Columbia University)\n",
      "</div>"
     ]
    },
    {
     "cell_type": "markdown",
     "metadata": {},
     "source": [
      "_This notebook contains the code used to generate the figures for the above paper. _"
     ]
    },
    {
     "cell_type": "code",
     "collapsed": false,
     "input": [
      "from __future__ import division\n",
      "\n",
      "from astropy.constants import G\n",
      "import astropy.units as u\n",
      "import emcee\n",
      "import matplotlib as mpl\n",
      "import matplotlib.pyplot as plt\n",
      "import numpy as np\n",
      "from scipy.optimize import root\n",
      "from scipy.stats import truncnorm\n",
      "from scipy.misc import logsumexp\n",
      "import triangle\n",
      "\n",
      "# TODO: check in a stylesheet, use that\n",
      "# plt.style.use(\"\")\n",
      "%matplotlib inline"
     ],
     "language": "python",
     "metadata": {},
     "outputs": [],
     "prompt_number": 111
    },
    {
     "cell_type": "heading",
     "level": 2,
     "metadata": {},
     "source": [
      "Generate test datasets"
     ]
    },
    {
     "cell_type": "code",
     "collapsed": false,
     "input": [
      "# Number of data points to generate\n",
      "ndata = 128\n",
      "\n",
      "# Assumed Neutron star mass\n",
      "m_NS = 1.35 # solar masses\n",
      "\n",
      "# Bounds for the truncated normal distribution (See below)\n",
      "norm_bounds = (0.2,1.4)"
     ],
     "language": "python",
     "metadata": {},
     "outputs": [],
     "prompt_number": 160
    },
    {
     "cell_type": "markdown",
     "metadata": {},
     "source": [
      "We generate data with three different models for the true distribution of companion masses:\n",
      "* __1G__: A single (truncated) Gaussian\n",
      "* __G+NS__: A (truncated) Gaussian + delta function at the neutron star mass\n",
      "* __U+NS__: A uniform distribution + delta function at the neutron star mass"
     ]
    },
    {
     "cell_type": "code",
     "collapsed": false,
     "input": [
      "def mass_function(m1, m2, sini):\n",
      "    return (m2*sini)**3 / (m1 + m2)**2\n",
      "\n",
      "def make_datasets(N, seed=None):\n",
      "    np.random.seed(seed)\n",
      "    \n",
      "    # container to store the various fake data\n",
      "    datasets = dict()\n",
      "    \n",
      "    # container used to store parameters used to generate the datasets\n",
      "    params = dict()\n",
      "    \n",
      "    # generate random primary masses and inclination angles\n",
      "    m1 = np.random.uniform(0.2, 0.4, size=N) # Msun\n",
      "    sini = np.sin(np.arccos(1 - np.random.uniform(0.,1.,size=N))) # uniform in cos(i)\n",
      "    \n",
      "    # ----------------------------------------------------------------------------------\n",
      "    # Test set 1: a single, truncated Gaussian\n",
      "    #\n",
      "    p = dict()\n",
      "    p['bounds'] = (0.2, 1.4) # Msun\n",
      "    p['mean'] = 0.7 # Msun\n",
      "    p['stddev'] = 0.2 # Msun\n",
      "    \n",
      "    a = (p['bounds'][0] - p['mean']) / p['stddev']\n",
      "    b = (p['bounds'][1] - p['mean']) / p['stddev']\n",
      "    gaussian = truncnorm(a, b, loc=p['mean'], scale=p['stddev'])\n",
      "    true_m2s = gaussian.rvs(N)\n",
      "    \n",
      "    d = dict()\n",
      "    d['m1'] = m1\n",
      "    d['sini'] = sini\n",
      "    d['mf'] = mass_function(m1, true_m2s, sini)\n",
      "    d['true_m2'] = true_m2s\n",
      "    \n",
      "    params['1G'] = p\n",
      "    datasets['1G'] = d\n",
      "    \n",
      "    # ----------------------------------------------------------------------------------\n",
      "    # Test set 2: a truncated Gaussian + delta function at the Neutron star mass\n",
      "    #\n",
      "    p = dict()\n",
      "    p['bounds'] = (0.2, 1.4) # Msun\n",
      "    p['mean'] = 0.7 # Msun\n",
      "    p['stddev'] = 0.2 # Msun\n",
      "    p['f_NS'] = 0.1 # 10% neutron stars\n",
      "    \n",
      "    a = (p['bounds'][0] - p['mean']) / p['stddev']\n",
      "    b = (p['bounds'][1] - p['mean']) / p['stddev']\n",
      "    gaussian = truncnorm(a, b, loc=p['mean'], scale=p['stddev'])\n",
      "    true_m2s = gaussian.rvs(N)\n",
      "    \n",
      "    NS_ix = np.random.uniform(size=N) < p['f_NS']\n",
      "    true_m2s[NS_ix] = m_NS\n",
      "    \n",
      "    d = dict()\n",
      "    d['m1'] = m1\n",
      "    d['sini'] = sini\n",
      "    d['mf'] = mass_function(m1, true_m2s, sini)\n",
      "    d['true_m2'] = true_m2s\n",
      "    \n",
      "    params['G+NS'] = p\n",
      "    datasets['G+NS'] = d\n",
      "    \n",
      "    # ----------------------------------------------------------------------------------\n",
      "    # Test set 3: uniform + delta function at the Neutron star mass\n",
      "    #\n",
      "    p = dict()\n",
      "    p['bounds'] = (0.3, 1.1) # Msun\n",
      "    p['f_NS'] = 0.1 # 10% neutron stars\n",
      "    \n",
      "    true_m2s = np.random.uniform(p['bounds'][0], p['bounds'][1], size=N)\n",
      "    NS_ix = np.random.uniform(size=N) < p['f_NS']\n",
      "    true_m2s[NS_ix] = m_NS\n",
      "    \n",
      "    d = dict()\n",
      "    d['m1'] = m1\n",
      "    d['sini'] = sini\n",
      "    d['mf'] = mass_function(m1, true_m2s, sini)\n",
      "    d['true_m2'] = true_m2s\n",
      "    \n",
      "    params['U+NS'] = p\n",
      "    datasets['U+NS'] = d\n",
      "    \n",
      "    return params, datasets"
     ],
     "language": "python",
     "metadata": {},
     "outputs": [],
     "prompt_number": 161
    },
    {
     "cell_type": "code",
     "collapsed": false,
     "input": [
      "test_params,test_data = make_datasets(ndata, seed=42)"
     ],
     "language": "python",
     "metadata": {},
     "outputs": [],
     "prompt_number": 162
    },
    {
     "cell_type": "code",
     "collapsed": false,
     "input": [
      "fig,axes = plt.subplots(1, 3, figsize=(14,5), sharex=True, sharey=True)\n",
      "\n",
      "bins = np.linspace(0.,1.4,25)\n",
      "axes[0].hist(test_data['1G']['true_m2'], bins=bins, color='#777777', edgecolor='#999999')\n",
      "axes[0].set_title('Gaussian')\n",
      "axes[1].hist(test_data['G+NS']['true_m2'], bins=bins, color='#777777', edgecolor='#999999')\n",
      "axes[1].set_title(r'Gaussian + $\\delta$-fn')\n",
      "axes[2].hist(test_data['U+NS']['true_m2'], bins=bins, color='#777777', edgecolor='#999999')\n",
      "axes[2].set_title(r'Uniform + $\\delta$-fn')\n",
      "\n",
      "for i in range(3):\n",
      "    axes[i].set_xlabel(\"True $M_2$ [M$_\\odot$]\")\n",
      "    axes[i].yaxis.set_visible(False)\n",
      "\n",
      "axes[0].set_xlim(0.,1.5)    \n",
      "fig.tight_layout()"
     ],
     "language": "python",
     "metadata": {},
     "outputs": [
      {
       "metadata": {},
       "output_type": "display_data",
       "png": "[encoded data removed]",
       "text": [
        "<matplotlib.figure.Figure at 0x11bb87a50>"
       ]
      }
     ],
     "prompt_number": 163
    },
    {
     "cell_type": "code",
     "collapsed": false,
     "input": [
      "fig,axes = plt.subplots(1, 3, figsize=(14,5), sharex=True, sharey=True)\n",
      "\n",
      "bins = np.linspace(0.,1.4,25)\n",
      "axes[0].hist(test_data['1G']['mf'], bins=bins, color='#777777', edgecolor='#999999')\n",
      "axes[0].set_title('Gaussian')\n",
      "axes[1].hist(test_data['G+NS']['mf'], bins=bins, color='#777777', edgecolor='#999999')\n",
      "axes[1].set_title(r'Gaussian + $\\delta$-fn')\n",
      "axes[2].hist(test_data['U+NS']['mf'], bins=bins, color='#777777', edgecolor='#999999')\n",
      "axes[2].set_title(r'Uniform + $\\delta$-fn')\n",
      "\n",
      "for i in range(3):\n",
      "    axes[i].set_xlabel(\"$m_f$ [M$_\\odot$]\")\n",
      "    axes[i].yaxis.set_visible(False)\n",
      "\n",
      "axes[0].set_xlim(0.,1.5)    \n",
      "fig.tight_layout()"
     ],
     "language": "python",
     "metadata": {},
     "outputs": [
      {
       "metadata": {},
       "output_type": "display_data",
       "png": "[encoded data removed]",
       "text": [
        "<matplotlib.figure.Figure at 0x11a89b150>"
       ]
      }
     ],
     "prompt_number": 164
    },
    {
     "cell_type": "markdown",
     "metadata": {},
     "source": [
      "---"
     ]
    },
    {
     "cell_type": "markdown",
     "metadata": {},
     "source": [
      "With 'data' in hand, we now start building our model. For all cases, we will try modeling the true $M_2$ distribution as a mixture of a truncated normal distribution and delta function at the neutron star mass. Our parameters will be the mean and variance of the truncated normal, and the fraction of neutron stars."
     ]
    },
    {
     "cell_type": "code",
     "collapsed": false,
     "input": [
      "def integrand_factor(m2, mf, m1):\n",
      "    \"\"\" Compute the factor multiplying p(M_2|\u03b8) in the integral of Equation XXX in the paper \"\"\"\n",
      "    mtot = m1 + m2\n",
      "    return mtot**(4/3.) * mf**(-1/3.) / m2 / np.sqrt(m2**2 - (mf*mtot**2)**(2/3.)) / 3.\n",
      "\n",
      "def ln_likelihood(p, mf, m1, norm_bounds):\n",
      "    mu,sigma,f_NS = p\n",
      "    \n",
      "    # generate a grid of M2s to perform the numerical integral over for the Gaussian mixture component\n",
      "    lower, upper = norm_bounds\n",
      "    m2s = np.linspace(lower, upper, 512)\n",
      "    dm2 = m2s[1] - m2s[0]\n",
      "    \n",
      "    # evaluate the truncated normal\n",
      "    dist = truncnorm((lower - mu) / sigma, (upper - mu) / sigma, loc=mu, scale=sigma)\n",
      "    p_WD = (1-f_NS) * dist.pdf(m2s[:,np.newaxis]) * integrand_factor(m2s[:,np.newaxis], mf[np.newaxis], m1[np.newaxis])\n",
      "    \n",
      "    # when M_2 < M_2,min, the pdf will return NaN -- this simply zeros out these values\n",
      "    p_WD[np.isnan(p_WD)] = 0.\n",
      "    \n",
      "    # we approximate the integral using the trapezoidal rule\n",
      "    p_WD = dm2/2. * (p_WD[0] + np.sum(2*p_WD[1:-1], axis=0) + p_WD[-1])\n",
      "    \n",
      "    # neutron star component is an integral over a delta function\n",
      "    p_NS = f_NS*integrand_factor(M_NS, mf[np.newaxis], m1[np.newaxis])\n",
      "    \n",
      "    return np.log(p_WD + p_NS)\n",
      "\n",
      "def ln_prior(p):\n",
      "    mu,sigma,f_NS = p\n",
      "    \n",
      "    lp = 0.\n",
      "    \n",
      "    # uniform prior on neutron star fraction in the range [0,1]\n",
      "    if f_NS < 0. or f_NS > 1.:\n",
      "        return -np.inf\n",
      "    \n",
      "    # uniform prior on position of the Gaussian\n",
      "    lp += -np.log(1.4 - 0.2)\n",
      "    if mu < 0.2 or mu > 1.4:\n",
      "        return -np.inf\n",
      "    \n",
      "    # p(\u03c3) = 1/\u03c3 (0.02 < \u03c3 < 1)\n",
      "    lp += -np.log(sigma) - 1.36405 # properly normalized\n",
      "    if sigma < 0.02 or sigma > 1.:\n",
      "        return -np.inf\n",
      "\n",
      "    return lp\n",
      "\n",
      "def ln_posterior(p, mf, m1, norm_bounds):\n",
      "    ll = ln_likelihood(p, mf, m1, norm_bounds)\n",
      "    lp = ln_prior(p)\n",
      "    \n",
      "    if np.any(np.isnan(ll)):\n",
      "        return -np.inf\n",
      "\n",
      "    if np.any(np.isnan(lp)):\n",
      "        return -np.inf\n",
      "    \n",
      "    return lp + ll.sum()\n",
      "\n",
      "ln_likelihood([test_params['1G']['mean'], test_params['1G']['stddev'], 0.], \n",
      "              test_data['1G']['mf'], test_data['1G']['m1'], test_params['1G']['bounds']).sum()"
     ],
     "language": "python",
     "metadata": {},
     "outputs": [
      {
       "metadata": {},
       "output_type": "pyout",
       "prompt_number": 165,
       "text": [
        "90.951407728293404"
       ]
      }
     ],
     "prompt_number": 165
    },
    {
     "cell_type": "heading",
     "level": 3,
     "metadata": {},
     "source": [
      "Likelihood slices"
     ]
    },
    {
     "cell_type": "heading",
     "level": 3,
     "metadata": {},
     "source": [
      "THIS IS A TEST THAT CAN BE REMOVED BEFORE PUBLISHING"
     ]
    },
    {
     "cell_type": "code",
     "collapsed": false,
     "input": [
      "#### THIS IS A TEST THAT CAN BE REMOVED BEFORE PUBLISHING\n",
      "\n",
      "def make_slice_plots(test_name):\n",
      "    # mean\n",
      "    fig,axes = plt.subplots(1,3,figsize=(16,5))\n",
      "    \n",
      "    try:\n",
      "        f_NS = test_params[test_name]['f_NS']\n",
      "    except KeyError:\n",
      "        f_NS = 0.\n",
      "    \n",
      "    lls = np.array([])\n",
      "    mus = np.linspace(0.2, 1.4, 50)\n",
      "    for mu in mus:\n",
      "        ll = ln_likelihood([mu, test_params[test_name]['stddev'], f_NS], \n",
      "                            test_data[test_name]['mf'], test_data[test_name]['m1'], test_params[test_name]['bounds']).sum()\n",
      "        lls = np.append(lls, ll)\n",
      "\n",
      "    axes[0].plot(mus, np.exp(lls - lls.max()))\n",
      "    axes[0].axvline(test_params['1G']['mean'])\n",
      "\n",
      "    # sigma\n",
      "    lls = np.array([])\n",
      "    sigmas = np.linspace(0.05, 0.4, 50)\n",
      "    for s in sigmas:\n",
      "        ll = ln_likelihood([test_params[test_name]['mean'], s, f_NS], \n",
      "                            test_data[test_name]['mf'], test_data[test_name]['m1'], test_params[test_name]['bounds']).sum()\n",
      "        lls = np.append(lls, ll)\n",
      "\n",
      "    axes[1].plot(sigmas, np.exp(lls - lls.max()))\n",
      "    axes[1].axvline(test_params[test_name]['stddev'])\n",
      "\n",
      "    # f_NS\n",
      "    lls = np.array([])\n",
      "    fs = np.linspace(0.01, 1., 50)\n",
      "    for f in fs:\n",
      "        ll = ln_likelihood([test_params[test_name]['mean'], test_params[test_name]['stddev'], f], \n",
      "                            test_data[test_name]['mf'], test_data[test_name]['m1'], test_params[test_name]['bounds']).sum()\n",
      "        lls = np.append(lls, ll)\n",
      "\n",
      "    axes[2].plot(fs, np.exp(lls - lls.max()))\n",
      "    axes[2].axvline(f_NS)\n",
      "\n",
      "#### THIS IS A TEST THAT CAN BE REMOVED BEFORE PUBLISHING"
     ],
     "language": "python",
     "metadata": {},
     "outputs": [],
     "prompt_number": 168
    },
    {
     "cell_type": "code",
     "collapsed": false,
     "input": [
      "make_slice_plots('1G')\n",
      "make_slice_plots('G+NS')"
     ],
     "language": "python",
     "metadata": {},
     "outputs": [
      {
       "metadata": {},
       "output_type": "display_data",
       "png": "[encoded data removed]",
       "text": [
        "<matplotlib.figure.Figure at 0x11a76bd90>"
       ]
      },
      {
       "metadata": {},
       "output_type": "display_data",
       "png": "[encoded data removed]",
       "text": [
        "<matplotlib.figure.Figure at 0x11b44f390>"
       ]
      }
     ],
     "prompt_number": 169
    },
    {
     "cell_type": "heading",
     "level": 3,
     "metadata": {},
     "source": [
      "Use MCMC to sample from the posterior distribution, $p(\\theta\\,|\\,m_f)$"
     ]
    },
    {
     "cell_type": "code",
     "collapsed": false,
     "input": [
      "def run_inference(data, norm_bounds, nwalkers=32):\n",
      "    # number of parameters\n",
      "    ndim = 3\n",
      "    \n",
      "    # initial positions for walkers\n",
      "    p0 = np.zeros((nwalkers,ndim))\n",
      "    p0[:,0] = np.random.normal(0.8, 0.05, size=nwalkers) # mean\n",
      "    p0[:,1] = np.random.normal(0.3, 0.01, size=nwalkers) # stddev\n",
      "    p0[:,2] = np.random.uniform(0., 0.1, size=nwalkers) # f_NS\n",
      "    \n",
      "    args = (data['mf'], data['m1'], norm_bounds)\n",
      "    sampler = emcee.EnsembleSampler(nwalkers=nwalkers, dim=ndim, lnpostfn=ln_posterior, args=args)\n",
      "\n",
      "    # burn-in\n",
      "    pos,prob,state = sampler.run_mcmc(p0, N=100)\n",
      "    sampler.reset() # throw out burn-in samples\n",
      "    pos,prob,state = sampler.run_mcmc(pos, N=1000)\n",
      "    \n",
      "    return sampler"
     ],
     "language": "python",
     "metadata": {},
     "outputs": [],
     "prompt_number": 172
    },
    {
     "cell_type": "code",
     "collapsed": false,
     "input": [
      "sampler_1G = run_inference(test_data['1G'], norm_bounds=test_params['1G']['bounds'])"
     ],
     "language": "python",
     "metadata": {},
     "outputs": []
    },
    {
     "cell_type": "code",
     "collapsed": false,
     "input": [
      "fig = triangle.corner(sampler_1G.flatchain, truths=[true_mu, true_sigma, true_f_NS], \n",
      "                      labels=[r\"$\\mu$\", r\"$\\sigma$\", r\"$f_{\\rm NS}$\"],\n",
      "                      extents=[(0.2,1.4),(0.05,0.45), (0.,1.)])"
     ],
     "language": "python",
     "metadata": {},
     "outputs": []
    },
    {
     "cell_type": "code",
     "collapsed": false,
     "input": [
      "for i in range(ndim):\n",
      "    plt.figure()\n",
      "    for chain in sampler_1G.chain[...,i]:\n",
      "        plt.plot(chain, marker=None, drawstyle='steps', alpha=0.2, color='k');"
     ],
     "language": "python",
     "metadata": {},
     "outputs": []
    },
    {
     "cell_type": "code",
     "collapsed": false,
     "input": [],
     "language": "python",
     "metadata": {},
     "outputs": []
    },
    {
     "cell_type": "code",
     "collapsed": false,
     "input": [],
     "language": "python",
     "metadata": {},
     "outputs": []
    },
    {
     "cell_type": "code",
     "collapsed": false,
     "input": [],
     "language": "python",
     "metadata": {},
     "outputs": []
    },
    {
     "cell_type": "code",
     "collapsed": false,
     "input": [],
     "language": "python",
     "metadata": {},
     "outputs": []
    },
    {
     "cell_type": "code",
     "collapsed": false,
     "input": [
      "def rootfind(m2, mf, m1):\n",
      "    return m2**2 - (mf*(m1+m2)**2)**(2/3.)\n",
      "\n",
      "m2_mins = np.array([root(rootfind, 5., args=(mmf,mm1)).x[0] for (mmf,mm1) in zip(mf,m1)])"
     ],
     "language": "python",
     "metadata": {},
     "outputs": [],
     "prompt_number": 39
    }
   ],
   "metadata": {}
  }
 ]
}