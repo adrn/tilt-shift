{
 "metadata": {
  "name": "",
  "signature": "sha256:47d0260affcb424e7e5dac2e4422e507731d112a23cc6a2e1bf11538dc398496"
 },
 "nbformat": 3,
 "nbformat_minor": 0,
 "worksheets": [
  {
   "cells": [
    {
     "cell_type": "code",
     "collapsed": false,
     "input": [
      "import daft\n",
      "import matplotlib\n",
      "matplotlib.rc('text', usetex=True)\n",
      "matplotlib.rcParams['text.latex.preamble'] = [r\"\\usepackage{amsmath}\"]\n",
      "import matplotlib.pyplot as pl\n",
      "%matplotlib inline"
     ],
     "language": "python",
     "metadata": {},
     "outputs": [],
     "prompt_number": 3
    },
    {
     "cell_type": "code",
     "collapsed": false,
     "input": [
      "pgm = daft.PGM(shape=(12,10), grid_unit=1)\n",
      "\n",
      "###################################################################\n",
      "# Add nodes\n",
      "#\n",
      "\n",
      "pgm.add_node(daft.Node(\"a_k\", r\"$a_k$\", 6, 8))\n",
      "\n",
      "pgm.add_node(daft.Node(\"v_n\", r\"$v_n$\", 6, 5))\n",
      "pgm.add_node(daft.Node(\"sigma_n\", r\"$\\sigma_n$\", 8, 5, observed=True))\n",
      "pgm.add_node(daft.Node(\"Q_hat_n\", r\"$\\hat{Q}_n$\", 6, 3))\n",
      "pgm.add_node(daft.Node(\"i_n\", r\"$i_n$\", 4, 3))\n",
      "pgm.add_node(daft.Node(\"Q_n\", r\"$Q_n$\", 8, 3, observed=True))\n",
      "\n",
      "# mixture plate\n",
      "pgm.add_plate(daft.Plate([5,7,2,2], label=\"$K$\"))\n",
      "\n",
      "# observations\n",
      "pgm.add_plate(daft.Plate([2,2,8,4], label=\"$N$\"))\n",
      "\n",
      "###################################################################\n",
      "# Add edges\n",
      "#\n",
      "\n",
      "# progenitor\n",
      "pgm.add_edge('a_k', 'v_n')\n",
      "pgm.add_edge('v_n', 'Q_hat_n')\n",
      "pgm.add_edge('i_n', 'Q_hat_n')\n",
      "pgm.add_edge('Q_hat_n', 'Q_n')\n",
      "pgm.add_edge('sigma_n', 'Q_n')\n",
      "\n",
      "ax = pgm.render()\n",
      "fig = ax.figure\n",
      "fig.savefig(\"pgm.pdf\")"
     ],
     "language": "python",
     "metadata": {},
     "outputs": [
      {
       "metadata": {},
       "output_type": "display_data",
       "png": "[encoded data removed]",
       "text": [
        "<matplotlib.figure.Figure at 0x1093217d0>"
       ]
      }
     ],
     "prompt_number": 4
    },
    {
     "cell_type": "code",
     "collapsed": false,
     "input": [
      "pgm = daft.PGM(shape=(12,10), grid_unit=1)\n",
      "\n",
      "###################################################################\n",
      "# Add nodes\n",
      "#\n",
      "\n",
      "pgm.add_node(daft.Node(\"theta_k\", r\"$\\boldsymbol{\\theta}_k$\", 6, 8))\n",
      "\n",
      "pgm.add_node(daft.Node(\"M_2n\", r\"$M_{2,n}$\", 6, 5))\n",
      "pgm.add_node(daft.Node(\"m_fn\", r\"$M_{f,n}$\", 6, 3, observed=True))\n",
      "pgm.add_node(daft.Node(\"i_n\", r\"$i_n$\", 4, 3))\n",
      "pgm.add_node(daft.Node(\"M_1n\", r\"$M_{1,n}$\", 8, 3))\n",
      "\n",
      "# mixture plate\n",
      "pgm.add_plate(daft.Plate([5,7,2,2], label=\"$K$\", label_offset=(3,45)))\n",
      "\n",
      "# observations\n",
      "pgm.add_plate(daft.Plate([3,2,6,4], label=\"$n=1...N$\", label_offset=(3,100)))\n",
      "\n",
      "###################################################################\n",
      "# Add edges\n",
      "#\n",
      "\n",
      "# progenitor\n",
      "pgm.add_edge('theta_k', 'M_2n')\n",
      "pgm.add_edge('M_2n', 'm_fn')\n",
      "pgm.add_edge('i_n', 'm_fn')\n",
      "pgm.add_edge('M_1n', 'm_fn')\n",
      "\n",
      "ax = pgm.render()\n",
      "fig = ax.figure\n",
      "fig.savefig(\"pgm_new.pdf\")"
     ],
     "language": "python",
     "metadata": {},
     "outputs": [
      {
       "metadata": {},
       "output_type": "display_data",
       "png": "[encoded data removed]",
       "text": [
        "<matplotlib.figure.Figure at 0x109321710>"
       ]
      }
     ],
     "prompt_number": 5
    },
    {
     "cell_type": "code",
     "collapsed": false,
     "input": [],
     "language": "python",
     "metadata": {},
     "outputs": []
    }
   ],
   "metadata": {}
  }
 ]
}